{
 "cells": [
  {
   "cell_type": "markdown",
   "source": [
    "# Agent Chat with Multimodal Models"
   ],
   "metadata": {
    "collapsed": false
   },
   "id": "4948e0e17198a778"
  },
  {
   "cell_type": "markdown",
   "source": [
    " The implement of session refers to [`babyagi`](../../camel/societies/babyagi_playing.py)."
   ],
   "metadata": {
    "collapsed": false
   },
   "id": "b4ebc6614125b557"
  },
  {
   "cell_type": "code",
   "execution_count": 1,
   "outputs": [],
   "source": [
    "import os\n",
    "\n",
    "os.environ[\"OPENAI_API_KEY\"] = \"\""
   ],
   "metadata": {
    "collapsed": false,
    "ExecuteTime": {
     "end_time": "2024-04-17T05:23:44.652625200Z",
     "start_time": "2024-04-17T05:23:44.631651100Z"
    }
   },
   "id": "afb1070f42f2a109"
  },
  {
   "cell_type": "code",
   "execution_count": 34,
   "outputs": [],
   "source": [
    "import re\n",
    "from PIL import Image\n",
    "\n",
    "from camel.utils import print_text_animated\n",
    "from camel.configs import FunctionCallingConfig\n",
    "from camel.functions import T2I_FUNCS\n",
    "from camel.responses import ChatAgentResponse\n",
    "from camel.agents import ChatAgent\n",
    "from camel.messages import BaseMessage\n",
    "from camel.prompts import PromptTemplateGenerator\n",
    "from camel.types import TaskType, RoleType, ModelType\n",
    "from copy import deepcopy\n",
    "\n",
    "from IPython.core.display import Markdown\n",
    "from colorama import Fore\n",
    "\n",
    "class MMChat:\n",
    "    r\"\"\"The class of multimodal chat session.\n",
    "    \"\"\"\n",
    "\n",
    "    def __init__(\n",
    "        self,\n",
    "    ) -> None:\n",
    "        self.critic = None\n",
    "        self.artist = None\n",
    "        critic_sys = \"\"\"You need to improve the prompt of the figures you saw.\n",
    "How to create a figure that is better in terms of color, shape, text (clarity), and other things.\n",
    "Reply with the following format:\n",
    "\n",
    "CRITICS: the image needs to improve...\n",
    "PROMPT: here is the updated prompt!\n",
    "        \"\"\"\n",
    "        self.critic_sys_msg = BaseMessage.make_assistant_message(role_name='critic', content= critic_sys)\n",
    "        \n",
    "        self.artist_sys_msg = BaseMessage.make_assistant_message(\n",
    "            role_name=\"Artist\",\n",
    "            content=PromptTemplateGenerator().get_prompt_from_key(TaskType.MULTI_CONDITION_IMAGE_CRAFT, RoleType.ASSISTANT),\n",
    "        )\n",
    "        \n",
    "        self.init_agents()\n",
    "\n",
    "    def init_agents(self):\n",
    "        r\"\"\"Initialize artist and critic agents with their system messages.\n",
    "\n",
    "        \"\"\"\n",
    "        \n",
    "        function_list=[*T2I_FUNCS]\n",
    "        assistant_model_config = FunctionCallingConfig.from_openai_function_list(\n",
    "            function_list=function_list,\n",
    "            kwargs=dict(temperature=0.0),\n",
    "        )\n",
    "\n",
    "        self.artist = ChatAgent(\n",
    "            system_message=self.artist_sys_msg,\n",
    "            model_type=ModelType.GPT_4_TURBO_VISION,\n",
    "            model_config=assistant_model_config,\n",
    "            function_list=[*T2I_FUNCS],\n",
    "        )\n",
    "        self.artist.reset()\n",
    "        \n",
    "        self.critic = ChatAgent(\n",
    "            system_message=self.critic_sys_msg,\n",
    "            model_type=ModelType.GPT_4_TURBO_VISION,\n",
    "        )\n",
    "        self.critic.reset()\n",
    "\n",
    "\n",
    "    def step(self, initialPrompt: str, iter_num = 2) -> ChatAgentResponse:\n",
    "        r\"\"\"Process of the drawing and criticising.\n",
    "        \n",
    "        Returns:\n",
    "            ChatAgentResponse: it contains the response message of the artist agent in the last iteration.\n",
    "\n",
    "        \"\"\"\n",
    "        \n",
    "        artist_user_msg = BaseMessage.make_user_message(\n",
    "        role_name=\"User\",\n",
    "        content = initialPrompt\n",
    "        )\n",
    "        print(Fore.MAGENTA + \"=\" *10 + \"ARTIST SYS\" + \"=\"*10 + \"\\n\" + self.artist_sys_msg.content)\n",
    "        print()\n",
    "        print(Fore.YELLOW + \"=\" *10 + \"ARTIST USR\" + \"=\"*10 + \"\\n\" + artist_user_msg.content)\n",
    "        print()\n",
    "        \n",
    "        pattern = r'\\(.*?/([0-9a-fA-F]{8}-[0-9a-fA-F]{4}-[0-9a-fA-F]{4}-[0-9a-fA-F]{4}-[0-9a-fA-F]{12})(\\.jpg|\\.png)\\)'\n",
    "        response = self.artist.step(artist_user_msg)\n",
    "        matches = re.findall(pattern, response.msg.content)\n",
    "        \n",
    "        image_paths = [f\"./img/{uuid}{ext}\" for uuid, ext in matches]\n",
    "        tmp_paths = deepcopy(image_paths)\n",
    "        response_msg = re.sub(pattern, lambda x: \"(\" + image_paths.pop(0) + \")\", response.msg.content)\n",
    "        image_paths = deepcopy(tmp_paths)\n",
    "        print_text_animated(Fore.BLUE + response_msg + Fore.RESET)\n",
    "        display(Markdown(response_msg))\n",
    "        \n",
    "        i = 0\n",
    "        while i < iter_num:         \n",
    "            i += 1\n",
    "            print(\"image_paths\", image_paths)\n",
    "\n",
    "            critic_user_msg = BaseMessage.make_user_message(\n",
    "                role_name=\"User\",\n",
    "                content=\"image:\",\n",
    "                # TODO: Now we only use local path, and we use replace it with url in the future.\n",
    "                image_list=[Image.open(image) for image in image_paths],\n",
    "                image_detail=\"high\",\n",
    "            )\n",
    "            print(Fore.GREEN + \"=\" *10 + \"CRITIC SYS\" + \"=\"*10 + \"\\n\" + self.critic_sys_msg.content)\n",
    "            print()\n",
    "            print(Fore.RED + \"=\" *10 + \"CRITIC USR\" + \"=\"*10 + \"\\n\" + critic_user_msg.content)\n",
    "            prompt = self.critic.step(critic_user_msg).msg.content\n",
    "            print()\n",
    "            print_text_animated(Fore.CYAN + \"=\" * 10 + \"CRITIC RES\" + \"=\" * 10 + \"\\n\" + prompt + Fore.RESET)\n",
    "            print()\n",
    "            artist_user_msg = BaseMessage.make_user_message(\n",
    "                role_name=\"User\",\n",
    "                content=prompt,\n",
    "            )\n",
    "            response = self.artist.step(artist_user_msg)\n",
    "            \n",
    "            matches = re.findall(pattern, response.msg.content)\n",
    "            image_paths = [f\"./img/{uuid}{ext}\" for uuid, ext in matches]\n",
    "            tmp_paths = deepcopy(image_paths)\n",
    "            response_msg = re.sub(pattern, lambda x: \"(\" + image_paths.pop(0) + \")\", response.msg.content)\n",
    "            image_paths = deepcopy(tmp_paths)\n",
    "            print()\n",
    "            print_text_animated(Fore.YELLOW + \"=\" *10 + \"ARTIST RES\" + \"=\"*10 + \"\\n\" + response_msg)\n",
    "            display(Markdown(response_msg))\n",
    "\n",
    "        return response\n",
    "    "
   ],
   "metadata": {
    "collapsed": false,
    "ExecuteTime": {
     "end_time": "2024-04-17T06:04:49.302969500Z",
     "start_time": "2024-04-17T06:04:49.291968900Z"
    }
   },
   "id": "2aa5a75d748a9dfd"
  },
  {
   "cell_type": "code",
   "execution_count": 35,
   "outputs": [
    {
     "name": "stdout",
     "output_type": "stream",
     "text": [
      "\u001B[35m==========ARTIST SYS==========\n",
      "You are tasked with creating an image based on the provided text and images conditions. Please use your \n",
      "        imagination and artistic capabilities to visualize and draw the images and explain what you are thinking \n",
      "        about.\n",
      "\n",
      "\n",
      "\u001B[33m==========ARTIST USR==========\n",
      "Create an image with sky blue background, a happy cat is showing a sign with 'I Love Python'.\n",
      "\n",
      "response ChatCompletion(id='chatcmpl-9EshscdackUYvk9d8R1Tf7LACaUAk', choices=[Choice(finish_reason='function_call', index=0, logprobs=None, message=ChatCompletionMessage(content=None, role='assistant', function_call=FunctionCall(arguments='{\"model\":\"dall-e-3\",\"prompt\":\"A happy cat holding a sign that says \\'I Love Python\\' against a sky blue background\",\"size\":\"1024x1024\",\"quality\":\"standard\",\"n\":1}', name='get_dalle_img'), tool_calls=None))], created=1713333912, model='gpt-4-turbo-2024-04-09', object='chat.completion', system_fingerprint='fp_76f018034d', usage=CompletionUsage(completion_tokens=57, prompt_tokens=312, total_tokens=369))\n",
      "{\"model\":\"dall-e-3\",\"prompt\":\"A happy cat holding a sign that says `I Love Python` against a sky blue background\",\"size\":\"1024x1024\",\"quality\":\"standard\",\"n\":1}\n",
      "already in cache\n",
      "func_assistant_msg \n",
      "func_result_msg \n",
      "[BaseMessage(role_name='Artist', role_type=<RoleType.ASSISTANT: 'assistant'>, meta_dict={}, content='', image_list=None, image_detail='auto')]\n",
      "response ChatCompletion(id='chatcmpl-9Eshv5ogW12D1Fi0XxOv2DehTb00k', choices=[Choice(finish_reason='stop', index=0, logprobs=None, message=ChatCompletionMessage(content='Here is the image of a happy cat holding a sign that says \"I Love Python\" against a sky blue background:\\n\\n![Happy Cat with Sign](https://openai-corp-apps.s3.amazonaws.com/img/71a345cb-4014-4dcc-8812-5c109364960f.png)', role='assistant', function_call=None, tool_calls=None))], created=1713333915, model='gpt-4-turbo-2024-04-09', object='chat.completion', system_fingerprint='fp_c4e4d95913', usage=CompletionUsage(completion_tokens=67, prompt_tokens=416, total_tokens=483))\n",
      "\u001B[34mHere is the image of a happy cat holding a sign that says \"I Love Python\" against a sky blue background:\n",
      "![Happy Cat with Sign](./img/71a345cb-4014-4dcc-8812-5c109364960f.png)\u001B[39m\n"
     ]
    },
    {
     "data": {
      "text/plain": "<IPython.core.display.Markdown object>",
      "text/markdown": "Here is the image of a happy cat holding a sign that says \"I Love Python\" against a sky blue background:\n\n![Happy Cat with Sign](./img/71a345cb-4014-4dcc-8812-5c109364960f.png)"
     },
     "metadata": {},
     "output_type": "display_data"
    },
    {
     "name": "stdout",
     "output_type": "stream",
     "text": [
      "image_paths ['./img/71a345cb-4014-4dcc-8812-5c109364960f.png']\n",
      "\u001B[32m==========CRITIC SYS==========\n",
      "You need to improve the prompt of the figures you saw.\n",
      "How to create a figure that is better in terms of color, shape, text (clarity), and other things.\n",
      "Reply with the following format:\n",
      "CRITICS: the image needs to improve...\n",
      "PROMPT: here is the updated prompt!\n",
      "        \n",
      "\n",
      "\n",
      "\u001B[31m==========CRITIC USR==========\n",
      "image:\n",
      "\n",
      "image type png\n",
      "response ChatCompletion(id='chatcmpl-9EsiGba4SeQCPr0w1gZVIs4QntOmO', choices=[Choice(finish_reason='stop', index=0, logprobs=None, message=ChatCompletionMessage(content=\"CRITICS: The image needs to improve in color contrast to enhance readability and visual appeal. The shape of the elements is too uniform, making the figure look monotonous. Text clarity is compromised due to a poor choice of font size and style, which makes it hard to read. Additionally, the overall layout could be better organized to guide the viewer's eye through the information more effectively.\\n\\nPROMPT: Here is the updated prompt!\\n- Use a high-contrast color palette to improve visibility and focus. For instance, use a dark background with light-colored text or vice versa.\\n- Introduce a variety of shapes or icons that relate to the data points to add visual interest and help differentiate between different types of information.\\n- Choose a clear, sans-serif font for all text to enhance readability. Increase the font size for headings and key data points to draw attention.\\n- Organize the layout strategically by placing the most important information in the center or at the top, and use arrows or lines to subtly guide the viewer through the figure.\\n- Consider adding a brief legend or labels directly next to data points, rather than using a separate key, to reduce the viewer's need to scan back and forth.\", role='assistant', function_call=None, tool_calls=None))], created=1713333936, model='gpt-4-turbo-2024-04-09', object='chat.completion', system_fingerprint='fp_76f018034d', usage=CompletionUsage(completion_tokens=242, prompt_tokens=70, total_tokens=312))\n",
      "\n",
      "\u001B[36m==========CRITIC RES==========\n",
      "CRITICS: The image needs to improve in color contrast to enhance readability and visual appeal. The shape of the elements is too uniform, making the figure look monotonous. Text clarity is compromised due to a poor choice of font size and style, which makes it hard to read. Additionally, the overall layout could be better organized to guide the viewer's eye through the information more effectively.\n",
      "PROMPT: Here is the updated prompt!\n",
      "- Use a high-contrast color palette to improve visibility and focus. For instance, use a dark background with light-colored text or vice versa.\n",
      "- Introduce a variety of shapes or icons that relate to the data points to add visual interest and help differentiate between different types of information.\n",
      "- Choose a clear, sans-serif font for all text to enhance readability. Increase the font size for headings and key data points to draw attention.\n",
      "- Organize the layout strategically by placing the most important information in the center or at the top, and use arrows or lines to subtly guide the viewer through the figure.\n",
      "- Consider adding a brief legend or labels directly next to data points, rather than using a separate key, to reduce the viewer's need to scan back and forth.\u001B[39m\n",
      "\n",
      "response ChatCompletion(id='chatcmpl-9Esj2K3XZGLy5YCuV5AKo4wg32Eav', choices=[Choice(finish_reason='function_call', index=0, logprobs=None, message=ChatCompletionMessage(content=None, role='assistant', function_call=FunctionCall(arguments='{\"model\":\"dall-e-3\",\"prompt\":\"A happy cat holding a sign that says \\'I Love Python\\' against a dark blue background. The sign features high-contrast white text in a large, clear, sans-serif font. The cat is surrounded by a variety of colorful shapes and icons related to happiness and coding, enhancing visual interest and differentiation. The layout is strategically organized with the sign in the center, and subtle guiding elements like arrows pointing towards the text.\",\"size\":\"1024x1024\",\"quality\":\"standard\",\"n\":1}', name='get_dalle_img'), tool_calls=None))], created=1713333984, model='gpt-4-turbo-2024-04-09', object='chat.completion', system_fingerprint='fp_76f018034d', usage=CompletionUsage(completion_tokens=122, prompt_tokens=662, total_tokens=784))\n",
      "{\"model\":\"dall-e-3\",\"prompt\":\"A happy cat holding a sign that says `I Love Python` against a dark blue background. The sign features high-contrast white text in a large, clear, sans-serif font. The cat is surrounded by a variety of colorful shapes and icons related to happiness and coding, enhancing visual interest and differentiation. The layout is strategically organized with the sign in the center, and subtle guiding elements like arrows pointing towards the text.\",\"size\":\"1024x1024\",\"quality\":\"standard\",\"n\":1}\n",
      "image_path: img/483bc777-18ec-47f8-ad07-104e2bb63eb9.png\n",
      "func_assistant_msg \n",
      "func_result_msg \n",
      "[BaseMessage(role_name='Artist', role_type=<RoleType.ASSISTANT: 'assistant'>, meta_dict={}, content='', image_list=None, image_detail='auto')]\n",
      "response ChatCompletion(id='chatcmpl-9EsjQnsQisOAFBgyRsUYXiQhV8veG', choices=[Choice(finish_reason='stop', index=0, logprobs=None, message=ChatCompletionMessage(content='The updated image has been created based on your feedback for improved visual appeal and readability. Here it is:\\n\\n![Happy Cat with Improved Sign](https://dalle-playground.openai.com/img/483bc777-18ec-47f8-ad07-104e2bb63eb9.png)\\n\\nThis version features:\\n- A dark blue background with high-contrast white text for better visibility.\\n- A variety of colorful shapes and icons related to happiness and coding to add visual interest.\\n- Clear, large, sans-serif font to enhance readability.\\n- A strategically organized layout with the sign in the center and subtle guiding elements.\\n\\nPlease review the image and let me know if further adjustments are needed!', role='assistant', function_call=None, tool_calls=None))], created=1713334008, model='gpt-4-turbo-2024-04-09', object='chat.completion', system_fingerprint='fp_76f018034d', usage=CompletionUsage(completion_tokens=141, prompt_tokens=831, total_tokens=972))\n",
      "\n",
      "\u001B[33m==========ARTIST RES==========\n",
      "The updated image has been created based on your feedback for improved visual appeal and readability. Here it is:\n",
      "![Happy Cat with Improved Sign](./img/483bc777-18ec-47f8-ad07-104e2bb63eb9.png)\n",
      "This version features:\n",
      "- A dark blue background with high-contrast white text for better visibility.\n",
      "- A variety of colorful shapes and icons related to happiness and coding to add visual interest.\n",
      "- Clear, large, sans-serif font to enhance readability.\n",
      "- A strategically organized layout with the sign in the center and subtle guiding elements.\n",
      "Please review the image and let me know if further adjustments are needed!\n"
     ]
    },
    {
     "data": {
      "text/plain": "<IPython.core.display.Markdown object>",
      "text/markdown": "The updated image has been created based on your feedback for improved visual appeal and readability. Here it is:\n\n![Happy Cat with Improved Sign](./img/483bc777-18ec-47f8-ad07-104e2bb63eb9.png)\n\nThis version features:\n- A dark blue background with high-contrast white text for better visibility.\n- A variety of colorful shapes and icons related to happiness and coding to add visual interest.\n- Clear, large, sans-serif font to enhance readability.\n- A strategically organized layout with the sign in the center and subtle guiding elements.\n\nPlease review the image and let me know if further adjustments are needed!"
     },
     "metadata": {},
     "output_type": "display_data"
    }
   ],
   "source": [
    "session = MMChat()\n",
    "res = session.step(initialPrompt=\"Create an image with sky blue background, a happy cat is showing a sign with 'I Love Python'.\", iter_num=1)"
   ],
   "metadata": {
    "collapsed": false,
    "ExecuteTime": {
     "end_time": "2024-04-17T06:07:08.036496500Z",
     "start_time": "2024-04-17T06:04:52.889939800Z"
    }
   },
   "id": "9c4814aea3aa354d"
  }
 ],
 "metadata": {
  "kernelspec": {
   "display_name": "Python 3",
   "language": "python",
   "name": "python3"
  },
  "language_info": {
   "codemirror_mode": {
    "name": "ipython",
    "version": 2
   },
   "file_extension": ".py",
   "mimetype": "text/x-python",
   "name": "python",
   "nbconvert_exporter": "python",
   "pygments_lexer": "ipython2",
   "version": "2.7.6"
  }
 },
 "nbformat": 4,
 "nbformat_minor": 5
}
